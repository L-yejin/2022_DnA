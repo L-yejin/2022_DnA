{
 "cells": [
  {
   "cell_type": "code",
   "execution_count": null,
   "id": "ba26d9df",
   "metadata": {},
   "outputs": [],
   "source": [
    "import warnings\n",
    "warnings.simplefilter('ignore')\n",
    "\n",
    "import pandas as pd\n",
    "from pandas import DataFrame\n",
    "from pandas import Series\n",
    "import numpy as np"
   ]
  },
  {
   "cell_type": "markdown",
   "id": "3df27bd4",
   "metadata": {},
   "source": [
    "## abalone data"
   ]
  },
  {
   "cell_type": "markdown",
   "id": "ad6b1173",
   "metadata": {},
   "source": [
    "(1점)"
   ]
  },
  {
   "cell_type": "code",
   "execution_count": null,
   "id": "2537e8ab",
   "metadata": {},
   "outputs": [],
   "source": [
    "# 전복 데이터 불러오기\n",
    "\n",
    "abalone = \n",
    "\n",
    "abalone"
   ]
  },
  {
   "cell_type": "markdown",
   "id": "3aba332a",
   "metadata": {},
   "source": [
    "변수 설명  \n",
    "\n",
    "| column | 설명 |  \n",
    "| :------------ | :------------- |  \n",
    "|sex|M(남성),F(여성),I(유아)|  \n",
    "|lenght|가장 긴 shell 측정, mm|  \n",
    "|diameter|직경, mm|\n",
    "|height|껍질 안에 있는 전복 높이, mm|\n",
    "|whole_weight|전체 무게, g|\n",
    "|shucked_weight\t|껍질 내의 전복 무게, g|\n",
    "|viscera_weight|전복 내장 무게, g|\n",
    "|shell_weight|건조 후 껍질 무게, g|\n",
    "|rings|전복 나이|"
   ]
  },
  {
   "cell_type": "markdown",
   "id": "8d5632a9",
   "metadata": {},
   "source": [
    "### Q1. 내장을 제외한 전복의 무게를 구하는 함수를 정의하고, \n",
    "### 함수를 적용해서 '전복-내장'이라는 컬럼을 abalone에 추가하세요 (11점)"
   ]
  },
  {
   "cell_type": "code",
   "execution_count": null,
   "id": "0363e3cc",
   "metadata": {},
   "outputs": [],
   "source": [
    "# 함수를 정의하세요 (6점)\n",
    "\n"
   ]
  },
  {
   "cell_type": "code",
   "execution_count": null,
   "id": "752ed853",
   "metadata": {},
   "outputs": [],
   "source": [
    "# 데이터에 함수를 적용하고, '전복-내장' 컬럼을 추가하세요 (5점)\n",
    "\n"
   ]
  },
  {
   "cell_type": "markdown",
   "id": "e06565d8",
   "metadata": {},
   "source": [
    "### Q2 . apply에서 lambda를 이용해서 'whole_weight'의 평균을 넘는 지에 대한 새로운 컬럼('heavy_w')를 정의하고, groupby를 이용하여 'sex'별 'heavy_w'가 평균을 넘는 개수가 몇개인지 구하세요 (11점)"
   ]
  },
  {
   "cell_type": "code",
   "execution_count": null,
   "id": "591de2eb",
   "metadata": {},
   "outputs": [],
   "source": [
    "# apply에서 lambda를 이용해서 'whole_weight'의 평균을 넘는 지에 대한 새로운 컬럼('heavy_w')를 정의하세요 (6점)\n",
    "\n"
   ]
  },
  {
   "cell_type": "code",
   "execution_count": null,
   "id": "d9622c1e",
   "metadata": {},
   "outputs": [],
   "source": [
    "# groupby를 이용하여 'sex'별 'heavy_w'가 평균을 넘는 개수가 몇개인지 구하세요 (5점)\n",
    "\n"
   ]
  },
  {
   "cell_type": "markdown",
   "id": "1dbb1ff3",
   "metadata": {},
   "source": [
    "### Q3. sex별로 height,whole_weight들의 평균값을 구하시오. (6점)\n",
    "\n",
    "agg를 사용하세요"
   ]
  },
  {
   "cell_type": "code",
   "execution_count": null,
   "id": "95078e70",
   "metadata": {},
   "outputs": [],
   "source": [
    "# 코드를 작성하세요\n",
    "\n"
   ]
  },
  {
   "cell_type": "markdown",
   "id": "b42f2725",
   "metadata": {},
   "source": [
    "### Q4. lenght가 0.5이상의 데이터에서 rings의 평균이 가장 큰 sex를 구하시오. (9점)\n",
    "\n",
    "**hint: query 사용**"
   ]
  },
  {
   "cell_type": "code",
   "execution_count": null,
   "id": "47c03e9b",
   "metadata": {},
   "outputs": [],
   "source": [
    "# 코드를 작성하세요 (7점)\n",
    "\n"
   ]
  },
  {
   "cell_type": "code",
   "execution_count": null,
   "id": "b23b2fd6",
   "metadata": {},
   "outputs": [],
   "source": [
    "# 가장 큰 성별과 평균값은? (1점)\n",
    "\n",
    "# 성별: \n",
    "# 평균값: "
   ]
  },
  {
   "cell_type": "markdown",
   "id": "e2c55788",
   "metadata": {},
   "source": [
    "### Q5. sex를 제외한 column 중 원하는 두 column을 정하고, 두 컬럼의 합을 구하는 groupby를 만들기  (12점)\n",
    "집계함수, apply, agg, lambda 등 사용하여 두개를 작성하세요  \n",
    "(컬럼과 함수는 다른것으로 사용하세요)  \n",
    "(key값은 sex로)"
   ]
  },
  {
   "cell_type": "code",
   "execution_count": null,
   "id": "6b654aee",
   "metadata": {},
   "outputs": [],
   "source": [
    "# (1) (6점)\n",
    "# 선택 컬럼을 적어주세요 :  \n",
    "\n",
    "\n",
    "# 코드를 작성하세요\n",
    "\n"
   ]
  },
  {
   "cell_type": "code",
   "execution_count": null,
   "id": "8a5695b4",
   "metadata": {},
   "outputs": [],
   "source": [
    "# (2) (6점)\n",
    "# 선택 컬럼을 적어주세요 :  \n",
    "\n",
    "\n",
    "# 코드를 작성하세요\n",
    "\n"
   ]
  },
  {
   "cell_type": "markdown",
   "id": "49bb3d72",
   "metadata": {},
   "source": [
    "### Q6. key값을 sex로 하고, 나머지 column들에 min, mean, max를 적용하고, 이름을 최소, 평균, 최대 로 바꾸기 (8점)"
   ]
  },
  {
   "cell_type": "code",
   "execution_count": null,
   "id": "8157f6cf",
   "metadata": {},
   "outputs": [],
   "source": [
    "# 코드를 작성하세요\n",
    "\n"
   ]
  },
  {
   "cell_type": "markdown",
   "id": "99b3a519",
   "metadata": {},
   "source": [
    "### Q7. pivot_table을 이용하여 abalone 데이터 살펴보기  (10점)\n",
    "pivot_table을 사용하여 두가지를 작성해보세요  "
   ]
  },
  {
   "cell_type": "code",
   "execution_count": null,
   "id": "3ab11215",
   "metadata": {},
   "outputs": [],
   "source": [
    "# (1) 코드를 작성하세요 (5점)\n",
    "\n"
   ]
  },
  {
   "cell_type": "code",
   "execution_count": null,
   "id": "d0242f53",
   "metadata": {},
   "outputs": [],
   "source": [
    "# (2) 코드를 작성하세요 (5점)\n",
    "\n"
   ]
  },
  {
   "cell_type": "markdown",
   "id": "cca644ed",
   "metadata": {},
   "source": [
    "## phone_data"
   ]
  },
  {
   "cell_type": "markdown",
   "id": "5d0dc204",
   "metadata": {},
   "source": [
    "(1점)"
   ]
  },
  {
   "cell_type": "code",
   "execution_count": null,
   "id": "56f4d6ba",
   "metadata": {},
   "outputs": [],
   "source": [
    "# phone_data 데이터 불러오기\n",
    "\n",
    "df_phone = \n",
    "\n",
    "df_phone"
   ]
  },
  {
   "cell_type": "markdown",
   "id": "100e0320",
   "metadata": {},
   "source": [
    "### Q8. groupby를 이용해서 item의 횟수와 network_type의 횟수를 각각 구해보세요 (8점)\n",
    "각 column의 이름은 **item_횟수**, **network_type_횟수**로 변경하세요"
   ]
  },
  {
   "cell_type": "code",
   "execution_count": null,
   "id": "39c87107",
   "metadata": {},
   "outputs": [],
   "source": [
    "# item의 횟수 (4점)\n",
    "\n"
   ]
  },
  {
   "cell_type": "code",
   "execution_count": null,
   "id": "6fa34e39",
   "metadata": {},
   "outputs": [],
   "source": [
    "# network_type의 횟수 (4점)\n",
    "\n"
   ]
  },
  {
   "cell_type": "markdown",
   "id": "70ea6554",
   "metadata": {},
   "source": [
    "### Q9. 아래와 같은 모양을 작성해 보세요  (12점)\n",
    "\n",
    "<img src='http://drive.google.com/uc?export=view&id=1xnj86gVAaeEACmbrhh88-YrIATAZZ3ma' /><br>"
   ]
  },
  {
   "cell_type": "markdown",
   "id": "c45fbb48",
   "metadata": {},
   "source": [
    "#### 9-1. pivot_table을 이용하여 작성하세요 (6점)"
   ]
  },
  {
   "cell_type": "code",
   "execution_count": null,
   "id": "d62b8ae7",
   "metadata": {},
   "outputs": [],
   "source": [
    "# pivot_table 사용한 두가지 방법\n",
    "\n",
    "6주차 과제에서 9-1번 답 쓰는 곳에 주석 처리된 부분은 무시하시고 푸시면 됩니다~!"
   ]
  },
  {
   "cell_type": "markdown",
   "id": "d2983b4c",
   "metadata": {},
   "source": [
    "#### 9-2. crosstab을 이용하여 작성하세요 (6점)\n",
    "(crosstab의 경우 뒤에 소수점이 있을 수 있습니다)  "
   ]
  },
  {
   "cell_type": "code",
   "execution_count": null,
   "id": "a649156b",
   "metadata": {},
   "outputs": [],
   "source": [
    "# crosstab 사용한 코드를 작성해주세요\n",
    "\n"
   ]
  },
  {
   "cell_type": "markdown",
   "id": "46dcb7c8",
   "metadata": {},
   "source": [
    "### Q10. crosstab을 사용해서 2015-02에 사용수가 많은 item을 찾고,  2014.11~2015.03의 sms의 총 빈도수를 찾아보세요  (11점)\n",
    "\n",
    "**hint: margins**"
   ]
  },
  {
   "cell_type": "code",
   "execution_count": null,
   "id": "c09aa2b8",
   "metadata": {},
   "outputs": [],
   "source": [
    "# 코드를 작성해주세요 (10점)\n",
    "\n"
   ]
  },
  {
   "cell_type": "code",
   "execution_count": null,
   "id": "934642e3",
   "metadata": {},
   "outputs": [],
   "source": [
    "# 답을 입력해주세요 (1점)\n",
    "\n",
    "# 2015-02에 사용수가 많은 item : \n",
    "# 2014.11~2015.03 총 빈도수 : "
   ]
  },
  {
   "cell_type": "markdown",
   "id": "31a04457",
   "metadata": {},
   "source": [
    "# END"
   ]
  }
 ],
 "metadata": {
  "kernelspec": {
   "display_name": "Python 3",
   "language": "python",
   "name": "python3"
  },
  "language_info": {
   "codemirror_mode": {
    "name": "ipython",
    "version": 3
   },
   "file_extension": ".py",
   "mimetype": "text/x-python",
   "name": "python",
   "nbconvert_exporter": "python",
   "pygments_lexer": "ipython3",
   "version": "3.8.8"
  }
 },
 "nbformat": 4,
 "nbformat_minor": 5
}
