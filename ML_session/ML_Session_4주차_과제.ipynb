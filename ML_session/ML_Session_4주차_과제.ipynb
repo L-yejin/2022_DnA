{
 "cells": [
  {
   "cell_type": "markdown",
   "id": "3c8c80bf",
   "metadata": {},
   "source": [
    "# <span style=\"color:gray\">ML_Session_4주차_과제</span>  "
   ]
  },
  {
   "cell_type": "code",
   "execution_count": null,
   "id": "92f06560",
   "metadata": {},
   "outputs": [],
   "source": [
    "import pandas as pd\n",
    "from pandas import DataFrame, Series\n",
    "\n",
    "import numpy as np\n",
    "import os\n",
    "\n",
    "# sklearn\n",
    "import sklearn\n",
    "\n",
    "import warnings\n",
    "warnings.filterwarnings(action='ignore') \n",
    "\n",
    "# 노트북 실행 결과를 동일하게 유지하기 위해\n",
    "np.random.seed(42)"
   ]
  },
  {
   "cell_type": "code",
   "execution_count": null,
   "id": "b4f5c8af",
   "metadata": {},
   "outputs": [],
   "source": [
    "from sklearn.model_selection import train_test_split\n",
    "from sklearn.preprocessing import StandardScaler\n",
    "\n",
    "from sklearn.pipeline import Pipeline\n",
    "\n",
    "from sklearn.svm import LinearSVC\n",
    "from sklearn.svm import SVC\n",
    "from sklearn.neighbors import KNeighborsClassifier\n",
    "from sklearn.tree import DecisionTreeClassifier\n",
    "\n",
    "from sklearn.metrics import roc_auc_score\n",
    "from sklearn.metrics import accuracy_score\n",
    "\n",
    "from sklearn.tree import plot_tree\n",
    "import matplotlib.pyplot as plt"
   ]
  },
  {
   "cell_type": "markdown",
   "id": "2b97fbff",
   "metadata": {},
   "source": [
    "# "
   ]
  },
  {
   "cell_type": "markdown",
   "id": "76191953",
   "metadata": {},
   "source": [
    "# 01. SVM (총 25점)"
   ]
  },
  {
   "cell_type": "markdown",
   "id": "eaca52f5",
   "metadata": {},
   "source": [
    "### 01-1) SVM은 어떤 모델이고, 어떤 아이디어를 사용하나요? (5점)"
   ]
  },
  {
   "cell_type": "code",
   "execution_count": null,
   "id": "d9777cfe",
   "metadata": {},
   "outputs": [],
   "source": [
    "# 답)  \n"
   ]
  },
  {
   "cell_type": "markdown",
   "id": "ce0cd574",
   "metadata": {},
   "source": [
    "### 01-2) SVM모델을 불러오고, (데이터)에 적용해보세요. (총 8점)\n",
    "\n",
    "X_train, X_test, y_train, y_test로 X와y를 분리하세요.  \n",
    "test_size는 0.3, random_state는 42로 설정해주세요.  \n",
    "모델은 Pipeline을 사용해서 StandardScaler도 같이 사용한 경우와 안사용했을 경우도 해보세요~  \n",
    "\n",
    "fit할 때, X_train,y_train 사용하시고, Acuuracy 점수 낼 때는 X_test와 y_test를 사용해주세요  "
   ]
  },
  {
   "cell_type": "code",
   "execution_count": null,
   "id": "512ec1f6",
   "metadata": {},
   "outputs": [],
   "source": [
    "#(총 8점)\n",
    "# data import\n",
    "from sklearn.datasets import load_wine\n",
    "\n",
    "# data 불러오기\n",
    "wine=load_wine()\n",
    "X, y = wine.data, wine.target\n",
    "\n",
    "# X, y 분류 (3점)\n",
    "X_train, X_test, y_train, y_test = \n",
    "\n",
    "# 적용 (4점)\n",
    "\n",
    "\n",
    "# predict (1점)\n",
    "print('Accuracy = ', 여기에 score 구하는 코드를 작성하세요!)"
   ]
  },
  {
   "cell_type": "markdown",
   "id": "c1eb5078",
   "metadata": {},
   "source": [
    "### 01-3) 파라미터를 조정해보고, 조정했을 때 어떻게 달라지는지 알아보세요. (3가지 이상 해보세요~) (12점)"
   ]
  },
  {
   "cell_type": "code",
   "execution_count": null,
   "id": "ec58d762",
   "metadata": {},
   "outputs": [],
   "source": []
  },
  {
   "cell_type": "markdown",
   "id": "be9ae926",
   "metadata": {},
   "source": [
    "---"
   ]
  },
  {
   "cell_type": "markdown",
   "id": "4ec6c4f2",
   "metadata": {},
   "source": [
    "# 02. Naive Bayes (총 7점)"
   ]
  },
  {
   "cell_type": "markdown",
   "id": "81996053",
   "metadata": {},
   "source": [
    "### 02-1) Naive Bayes는 어떤 모델인가요? (5점)"
   ]
  },
  {
   "cell_type": "code",
   "execution_count": null,
   "id": "31bac86e",
   "metadata": {},
   "outputs": [],
   "source": [
    "# 답)  \n"
   ]
  },
  {
   "cell_type": "markdown",
   "id": "1c44e8a1",
   "metadata": {},
   "source": [
    "### 02-2) Naive Bayes가 많이 사용되는 분야는 어디인가요? (2점)"
   ]
  },
  {
   "cell_type": "code",
   "execution_count": null,
   "id": "f220e992",
   "metadata": {},
   "outputs": [],
   "source": [
    "# 답)  \n"
   ]
  },
  {
   "cell_type": "markdown",
   "id": "8bd8705c",
   "metadata": {},
   "source": [
    "---"
   ]
  },
  {
   "cell_type": "markdown",
   "id": "0a266e5f",
   "metadata": {},
   "source": [
    "# 03. KNN (총 34점)"
   ]
  },
  {
   "cell_type": "markdown",
   "id": "aba35738",
   "metadata": {},
   "source": [
    "### 03-1) KNN은 어떤 모델인가요? (5점)"
   ]
  },
  {
   "cell_type": "code",
   "execution_count": null,
   "id": "d5ec099a",
   "metadata": {},
   "outputs": [],
   "source": [
    "# 답)  \n"
   ]
  },
  {
   "cell_type": "markdown",
   "id": "21387c47",
   "metadata": {},
   "source": [
    "### 03-2) 파라미터 n_neighbors를 작게할 경우와 많이 크게할 경우 어떤 차이점이 있나요? (3점)"
   ]
  },
  {
   "cell_type": "code",
   "execution_count": null,
   "id": "3d68051e",
   "metadata": {},
   "outputs": [],
   "source": [
    "# 답)  \n"
   ]
  },
  {
   "cell_type": "markdown",
   "id": "ecae6045",
   "metadata": {},
   "source": [
    "### 03-3) 유클리드 거리를 사용하려면 파라미터를 어떻게 설정해야되나요? (3점)"
   ]
  },
  {
   "cell_type": "code",
   "execution_count": null,
   "id": "c592c095",
   "metadata": {},
   "outputs": [],
   "source": [
    "# 답)  \n"
   ]
  },
  {
   "cell_type": "markdown",
   "id": "fd48581e",
   "metadata": {},
   "source": [
    "### 03-4) 맨하튼 거리를 사용하려면 파라미터를 어떻게 설정해야되나요? (3점)"
   ]
  },
  {
   "cell_type": "code",
   "execution_count": null,
   "id": "e2cca4a3",
   "metadata": {},
   "outputs": [],
   "source": [
    "# 답)  \n"
   ]
  },
  {
   "cell_type": "markdown",
   "id": "77787062",
   "metadata": {},
   "source": [
    "### 03-5) KNN모델을 불러오고, (데이터)에 적용해보세요. (총 8점)\n",
    "\n",
    "X_train, X_test, y_train, y_test로 X와y를 분리하세요.  \n",
    "test_size는 0.3, random_state는 42로 설정해주세요.  \n",
    "모델은 Pipeline을 사용해서 StandardScaler도 같이 사용한 경우와 안사용했을 경우도 해보세요~  \n",
    "\n",
    "fit할 때, X_train,y_train 사용하시고, Acuuracy 점수 낼 때는 X_test와 y_test를 사용해주세요  "
   ]
  },
  {
   "cell_type": "code",
   "execution_count": null,
   "id": "c4d77561",
   "metadata": {},
   "outputs": [],
   "source": [
    "#(총 8점)\n",
    "# data import\n",
    "from sklearn.datasets import load_digits\n",
    "\n",
    "# data 불러오기\n",
    "digits=load_digits()\n",
    "X, y = digits.data, digits.target\n",
    "\n",
    "# X, y 분류 (3점)\n",
    "\n",
    "\n",
    "# 적용 (4점)\n",
    "\n",
    "\n",
    "# predict (1점)\n",
    "print('Accuracy = ', 여기에 score 구하는 코드를 작성하세요!)"
   ]
  },
  {
   "cell_type": "markdown",
   "id": "abf2ce4f",
   "metadata": {},
   "source": [
    "### 03-6) 파라미터를 조정해보고, 조정했을 때 어떻게 달라지는지 알아보세요. (12점)"
   ]
  },
  {
   "cell_type": "code",
   "execution_count": null,
   "id": "d4d668eb",
   "metadata": {},
   "outputs": [],
   "source": [
    "# 파라미터를 변경해보세요~ (3가지 이상 해보세요~)"
   ]
  },
  {
   "cell_type": "markdown",
   "id": "aef94109",
   "metadata": {},
   "source": [
    "---"
   ]
  },
  {
   "cell_type": "markdown",
   "id": "257ad5a9",
   "metadata": {},
   "source": [
    "# 04. Decision Tree (총 34점)"
   ]
  },
  {
   "cell_type": "markdown",
   "id": "8b9ad48f",
   "metadata": {},
   "source": [
    "### 04-1) Decision Tree는 어떤 모델인가요? (5점)"
   ]
  },
  {
   "cell_type": "code",
   "execution_count": null,
   "id": "48ea5d79",
   "metadata": {},
   "outputs": [],
   "source": [
    "# 답)  \n"
   ]
  },
  {
   "cell_type": "markdown",
   "id": "b1b3095d",
   "metadata": {},
   "source": [
    "### 04-2) 아래 그림의 빈칸을 채우세요. (각 1점)"
   ]
  },
  {
   "cell_type": "markdown",
   "id": "8e4f1d49",
   "metadata": {},
   "source": [
    "<img src='http://drive.google.com/uc?export=view&id=1romkz8fVQ5Hg5rwCiWlrTqgUIa4GxS_X' /><br>"
   ]
  },
  {
   "cell_type": "code",
   "execution_count": null,
   "id": "b6dc971b",
   "metadata": {},
   "outputs": [],
   "source": [
    "# 답)  \n",
    "\n",
    "# 1)  \n",
    "# 2)  \n",
    "# 3)  \n",
    "# 4)  "
   ]
  },
  {
   "cell_type": "markdown",
   "id": "26537112",
   "metadata": {},
   "source": [
    "### 04-3) DT모델을 불러오고, (데이터)에 적용해보세요. (총 13점)\n",
    "\n",
    "#### 데이터를 불러온 뒤, X와y를 설정하고, test_size를 0.3으로 random_state는 42로 설정해서 train과 test로 나눠보세요\n",
    "#### random_state를 0으로 한 경우와 다양하게 파라미터를 변경해보고, tree를 시각화했을 때 변하는 것이 있는지 확인해보세요\n",
    "\n",
    "plot_tree(모델이름, feature_names = explt_vars, class_names = fct_val, filled = True) 을 사용해서 시각화해보세요  \n",
    "ROC_AUC와 Accuarcy 점수를 구해보세요  "
   ]
  },
  {
   "cell_type": "code",
   "execution_count": null,
   "id": "89f544fd",
   "metadata": {},
   "outputs": [],
   "source": [
    "# 사용한 데이터 : breast_cancer dataset\n",
    "from sklearn.datasets import load_breast_cancer\n",
    "\n",
    "breast_cancer=load_breast_cancer()\n",
    "X, y = breast_cancer.data, breast_cancer.target\n",
    "\n",
    "explt_vars = ['mean radius', 'mean texture', 'mean perimeter', 'mean area','mean smoothness', 'mean compactness', 'mean concavity',\n",
    "       'mean concave points', 'mean symmetry', 'mean fractal dimension','radius error', 'texture error', 'perimeter error', 'area error',\n",
    "       'smoothness error', 'compactness error', 'concavity error','concave points error', 'symmetry error',\n",
    "       'fractal dimension error', 'worst radius', 'worst texture','worst perimeter', 'worst area', 'worst smoothness',\n",
    "       'worst compactness', 'worst concavity', 'worst concave points','worst symmetry', 'worst fractal dimension']\n",
    "fct_val = {0: 'malignant', 1: 'benign'}"
   ]
  },
  {
   "cell_type": "code",
   "execution_count": null,
   "id": "bd5f2c1d",
   "metadata": {},
   "outputs": [],
   "source": [
    "# (총 13점)\n",
    "# X, y 분류 (3점)\n",
    "\n",
    "\n",
    "# 적용 fit (4점)\n",
    "\n",
    "\n",
    "# predict (2점)\n",
    "print('AUC = ', 여기에 score 구하는 코드를 작성하세요!)\n",
    "print('Accuracy = ', 여기에 score 구하는 코드를 작성하세요!)\n",
    "\n",
    "# tree 시각화 (4점)\n",
    "plt.figure(figsize = (12,10)) # 크기는 조절하세요~\n"
   ]
  },
  {
   "cell_type": "markdown",
   "id": "a385b72b",
   "metadata": {},
   "source": [
    "### 04-4) 파라미터를 조정해보고, 조정했을 때 어떻게 달라지는지 알아보세요. (12점)\n",
    "각 파라미터가 어떤 역할을 하는지 간단하게 설명도 해주세요"
   ]
  },
  {
   "cell_type": "code",
   "execution_count": null,
   "id": "21441854",
   "metadata": {},
   "outputs": [],
   "source": [
    "# 파라미터를 변경해보세요~ (3가지 이상 해보세요~) (12점)"
   ]
  }
 ],
 "metadata": {
  "kernelspec": {
   "display_name": "Python 3 (ipykernel)",
   "language": "python",
   "name": "python3"
  },
  "language_info": {
   "codemirror_mode": {
    "name": "ipython",
    "version": 3
   },
   "file_extension": ".py",
   "mimetype": "text/x-python",
   "name": "python",
   "nbconvert_exporter": "python",
   "pygments_lexer": "ipython3",
   "version": "3.9.12"
  }
 },
 "nbformat": 4,
 "nbformat_minor": 5
}
